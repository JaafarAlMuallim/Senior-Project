{
 "cells": [
  {
   "cell_type": "markdown",
   "metadata": {
    "id": "YdsMOBaBfyT0"
   },
   "source": [
    "##### Copyright 2024 Google LLC."
   ]
  },
  {
   "cell_type": "code",
   "execution_count": null,
   "metadata": {
    "cellView": "form",
    "id": "rIIf_RgOf3sr"
   },
   "outputs": [],
   "source": [
    "#@title Licensed under the Apache License, Version 2.0 (the \"License\");\n",
    "# you may not use this file except in compliance with the License.\n",
    "# You may obtain a copy of the License at\n",
    "#\n",
    "# https://www.apache.org/licenses/LICENSE-2.0\n",
    "#\n",
    "# Unless required by applicable law or agreed to in writing, software\n",
    "# distributed under the License is distributed on an \"AS IS\" BASIS,\n",
    "# WITHOUT WARRANTIES OR CONDITIONS OF ANY KIND, either express or implied.\n",
    "# See the License for the specific language governing permissions and\n",
    "# limitations under the License."
   ]
  },
  {
   "cell_type": "markdown",
   "metadata": {
    "id": "TySweisNf_Am"
   },
   "source": [
    "# Question Answering using Gemini, LangChain, and Pinecone"
   ]
  },
  {
   "cell_type": "markdown",
   "metadata": {
    "id": "awKO767lQIWh"
   },
   "source": [
    "<table class=\"tfo-notebook-buttons\" align=\"left\">\n",
    "  <td>\n",
    "    <a target=\"_blank\" href=\"https://colab.research.google.com/github/google/generative-ai-docs/blob/main/examples/gemini/python/langchain/Gemini_LangChain_QA_Pinecone_WebLoad.ipynb\"><img src=\"https://www.tensorflow.org/images/colab_logo_32px.png\" />Run in Google Colab</a>\n",
    "  </td>\n",
    "  <td>\n",
    "    <a target=\"_blank\" href=\"https://github.com/google/generative-ai-docs/blob/main/examples/gemini/python/langchain/Gemini_LangChain_QA_Pinecone_WebLoad.ipynb\"><img src=\"https://www.tensorflow.org/images/GitHub-Mark-32px.png\" />View source on GitHub</a>\n",
    "  </td>\n",
    "</table>\n"
   ]
  },
  {
   "cell_type": "markdown",
   "metadata": {
    "id": "bA5Hys5PU_nt"
   },
   "source": [
    "## Overview\n",
    "\n",
    "[Gemini](https://ai.google.dev/models/gemini) is a family of generative AI models that lets developers generate content and solve problems. These models are designed and trained to handle both text and images as input.\n",
    "\n",
    "[LangChain](https://www.langchain.com/) is a data framework designed to make integration of Large Language Models (LLM) like Gemini easier for applications.\n",
    "\n",
    "[Pinecone](https://www.pinecone.io/) is a cloud-first vector database that allows users to search across billions of embeddings with ultra-low query latency.\n",
    "\n",
    "In this notebook, you'll learn how to create an application that answers questions using data from a website with the help of Gemini, LangChain, and Pinecone."
   ]
  },
  {
   "cell_type": "markdown",
   "metadata": {
    "id": "_qRjVe1tZhsx"
   },
   "source": [
    "## Setup\n",
    "\n",
    "First, you must install the packages and set the necessary environment variables.\n",
    "\n",
    "### Installation\n",
    "\n",
    "Install `LangChain`'s python library."
   ]
  },
  {
   "cell_type": "code",
   "execution_count": null,
   "metadata": {
    "id": "olK4Ejjzuj76"
   },
   "outputs": [],
   "source": [
    "!pip install --quiet langchain"
   ]
  },
  {
   "cell_type": "markdown",
   "metadata": {
    "id": "G3Ap03KFZjI-"
   },
   "source": [
    "Install LangChain's integration package for Gemini, `langchain-google-genai`."
   ]
  },
  {
   "cell_type": "code",
   "execution_count": null,
   "metadata": {
    "id": "K1CzIZiaurWv"
   },
   "outputs": [],
   "source": [
    "!pip install --quiet langchain-google-genai"
   ]
  },
  {
   "cell_type": "markdown",
   "metadata": {
    "id": "V7Y51x2AexEf"
   },
   "source": [
    "Install LangChain's integration package for the new version of Pinecone, `langchain-pinecone`."
   ]
  },
  {
   "cell_type": "code",
   "execution_count": null,
   "metadata": {
    "id": "kSxJt9NCerJX"
   },
   "outputs": [],
   "source": [
    "!pip install --quiet langchain-pinecone"
   ]
  },
  {
   "cell_type": "markdown",
   "metadata": {
    "id": "Ba1VjUO3ZwfS"
   },
   "source": [
    "Install Pinecone's python client SDK, `pinecone-client`"
   ]
  },
  {
   "cell_type": "code",
   "execution_count": null,
   "metadata": {
    "id": "LGBoQhoz3kdy"
   },
   "outputs": [],
   "source": [
    "!pip install --quiet pinecone-client"
   ]
  },
  {
   "cell_type": "markdown",
   "metadata": {
    "id": "myebeBlLkqVN"
   },
   "source": [
    "### Grab a Gemini API Key\n",
    "\n",
    "To use Gemini you need an *API key*. You can create an API key with one click in [Google AI Studio](https://makersuite.google.com/).\n",
    "After creating the API key, you can either set an environment variable named `GOOGLE_API_KEY` to your API Key or pass the API key as an argument when using the `ChatGoogleGenerativeAI` class to access Google's `gemini-1.5-flash` or `gemini-1.5-pro` models or the `GoogleGenerativeAIEmbeddings` class to access Google's Generative AI embedding model using `LangChain`.\n",
    "\n",
    "In this tutorial, you will set the environment variable `GOOGLE_API_KEY` to configure Gemini to use your API key."
   ]
  },
  {
   "cell_type": "code",
   "execution_count": null,
   "metadata": {
    "id": "xId4sR52utS0"
   },
   "outputs": [],
   "source": [
    "# Run this cell and paste the API key in the prompt\n",
    "import os\n",
    "import getpass\n",
    "\n",
    "os.environ['GOOGLE_API_KEY'] = getpass.getpass('Gemini API Key:')"
   ]
  },
  {
   "cell_type": "markdown",
   "metadata": {
    "id": "MPQLjFvRooqn"
   },
   "source": [
    "### Setup Pinecone\n",
    "\n",
    "To use Pinecone in your application, you must have an API key. To create an API key you have to set up a Pinecone account. Visit [Pinecone's app page](https://app.pinecone.io/), and Sign up/Log in to your account. Then navigate to the \"API Keys\" section and copy your API key.\n",
    "\n",
    "For more detailed instructions on getting the API key, you can read Pinecone's [Quickstart documentation](https://docs.pinecone.io/docs/quickstart#2-get-your-api-key).\n",
    "\n",
    "Set the environment variable `PINECONE_API_KEY` to configure Pinecone to use your API key.\n"
   ]
  },
  {
   "cell_type": "code",
   "execution_count": null,
   "metadata": {
    "id": "A7jTZLEApgtm"
   },
   "outputs": [],
   "source": [
    "os.environ['PINECONE_API_KEY'] = getpass.getpass('Pinecone API Key:')"
   ]
  },
  {
   "cell_type": "markdown",
   "metadata": {
    "id": "YGOKV3XflBCe"
   },
   "source": [
    "## Basic steps\n",
    "LLMs are trained offline on a large corpus of public data. Hence they cannot answer questions based on custom or private data accurately without additional context.\n",
    "\n",
    "If you want to make use of LLMs to answer questions based on private data, you have to provide the relevant documents as context alongside your prompt. This approach is called Retrieval Augmented Generation (RAG).\n",
    "\n",
    "You will use this approach to create a question-answering assistant using the Gemini text model integrated through LangChain. The assistant is expected to answer questions about Gemini model. To make this possible you will add more context to the assistant using data from a website.\n",
    "\n",
    "In this tutorial, you'll implement the two main components in an RAG-based architecture:\n",
    "\n",
    "1. Retriever\n",
    "\n",
    "    Based on the user's query, the retriever retrieves relevant snippets that add context from the document. In this tutorial, the document is the website data.\n",
    "    The relevant snippets are passed as context to the next stage - \"Generator\".\n",
    "\n",
    "2. Generator\n",
    "\n",
    "    The relevant snippets from the website data are passed to the LLM along with the user's query to generate accurate answers.\n",
    "\n",
    "You'll learn more about these stages in the upcoming sections while implementing the application."
   ]
  },
  {
   "cell_type": "code",
   "execution_count": null,
   "metadata": {},
   "outputs": [],
   "source": [
    "!pip install -U langchain-community"
   ]
  },
  {
   "cell_type": "code",
   "execution_count": null,
   "metadata": {},
   "outputs": [],
   "source": [
    "!pip install -qU langchain_community pypdf"
   ]
  },
  {
   "cell_type": "markdown",
   "metadata": {
    "id": "kPhs4mDkjdgY"
   },
   "source": [
    "## Import the required libraries"
   ]
  },
  {
   "cell_type": "code",
   "execution_count": null,
   "metadata": {
    "id": "TcvGPVdXu05F"
   },
   "outputs": [],
   "source": [
    "from langchain import hub\n",
    "from langchain import PromptTemplate\n",
    "from langchain.docstore.document import Document\n",
    "from langchain.document_loaders import WebBaseLoader\n",
    "from langchain.schema import StrOutputParser\n",
    "from langchain.schema.prompt_template import format_document\n",
    "from langchain.schema.runnable import RunnablePassthrough\n",
    "from langchain.text_splitter import RecursiveCharacterTextSplitter\n",
    "from langchain_pinecone import Pinecone\n",
    "from langchain_community.document_loaders import PyPDFLoader\n",
    "\n",
    "\n",
    "from pinecone import Pinecone as pc\n",
    "from pinecone import PodSpec"
   ]
  },
  {
   "cell_type": "markdown",
   "metadata": {
    "id": "qZ3tM0T2lbVm"
   },
   "source": [
    "## Retriever\n",
    "\n",
    "In this stage, you will perform the following steps:\n",
    "\n",
    "1. Read and parse the website data using LangChain.\n",
    "\n",
    "2. Create embeddings of the website data.\n",
    "\n",
    "    Embeddings are numerical representations (vectors) of text. Hence, text with similar meaning will have similar embedding vectors. You'll make use of Gemini's embedding model to create the embedding vectors of the website data.\n",
    "\n",
    "3. Store the embeddings in Pinecone's vector store.\n",
    "    \n",
    "    Pinecone is a vector database. The Pinecone vector store helps in the efficient retrieval of similar vectors. Thus, for adding context to the prompt for the LLM, relevant embeddings of the text matching the user's question can be retrieved easily using Pinecone.\n",
    "\n",
    "4. Create a Retriever from the Pinecone vector store.\n",
    "\n",
    "    The retriever will be used to pass relevant website embeddings to the LLM along with user queries."
   ]
  },
  {
   "cell_type": "markdown",
   "metadata": {
    "id": "W2N-NCPElqN3"
   },
   "source": [
    "### Read and parse the website data\n",
    "\n",
    "LangChain provides a wide variety of document loaders. To read the website data as a document, you will use the `WebBaseLoader` from LangChain.\n",
    "\n",
    "To know more about how to read and parse input data from different sources using the document loaders of LangChain, read LangChain's [document loaders guide](https://python.langchain.com/docs/integrations/document_loaders)."
   ]
  },
  {
   "cell_type": "code",
   "execution_count": null,
   "metadata": {
    "id": "DeNX9QFM0V-C"
   },
   "outputs": [],
   "source": [
    "loader = PyPDFLoader(\n",
    "    \"./Computer Security Principles and Practice, 4th.pdf\",\n",
    ")\n",
    "docs = loader.load()"
   ]
  },
  {
   "cell_type": "code",
   "execution_count": null,
   "metadata": {
    "scrolled": true
   },
   "outputs": [],
   "source": [
    "print(docs[10])"
   ]
  },
  {
   "cell_type": "markdown",
   "metadata": {
    "id": "y2N6RoTDlwsM"
   },
   "source": [
    "If you only want to select a specific portion of the website data to add context to the prompt, you can use regex, text slicing, or text splitting.\n",
    "\n",
    "In this example, you'll use Python's `split()` function to extract the required portion of the text. The extracted text should be converted back to LangChain's `Document` format."
   ]
  },
  {
   "cell_type": "code",
   "execution_count": null,
   "metadata": {
    "id": "qOwDregSBVVG"
   },
   "outputs": [],
   "source": [
    "# # Extract the text from the website data document\n",
    "# text_content = docs[0].page_content\n",
    "# # The text content between the substrings \"code, audio, image and video.\" to\n",
    "# # \"Cloud TPU v5p\" is relevant for this tutorial. You can use Python's `split()`\n",
    "# # to select the required content.\n",
    "# text_content_1 = text_content.split(\"code, audio, image and video.\",1)[1]\n",
    "# final_text = text_content_1.split(\"Cloud TPU v5p\",1)[0]\n",
    "\n",
    "# # Convert the text to LangChain's `Document` format\n",
    "# docs =  [Document(page_content=final_text, metadata={\"source\": \"local\"})]"
   ]
  },
  {
   "cell_type": "markdown",
   "metadata": {
    "id": "sgGVAFqWl20v"
   },
   "source": [
    "### Initialize Gemini's embedding model\n",
    "\n",
    "To create the embeddings from the website data, you'll use Gemini's embedding model, **embedding-001** which supports creating text embeddings.\n",
    "\n",
    "To use this embedding model, you have to import `GoogleGenerativeAIEmbeddings` from LangChain. To know more about the embedding model, read Google AI's [language documentation](https://ai.google.dev/models/gemini)."
   ]
  },
  {
   "cell_type": "code",
   "execution_count": null,
   "metadata": {
    "id": "8NXNTrjp0jdh"
   },
   "outputs": [],
   "source": [
    "from langchain_google_genai import GoogleGenerativeAIEmbeddings\n",
    "\n",
    "# If there is no environment variable set for the API key, you can pass the API\n",
    "# key to the parameter `google_api_key` of the `GoogleGenerativeAIEmbeddings`\n",
    "# function: `google_api_key = \"key\"`.\n",
    "\n",
    "gemini_embeddings = GoogleGenerativeAIEmbeddings(model=\"models/text-embedding-004\")"
   ]
  },
  {
   "cell_type": "markdown",
   "metadata": {
    "id": "Zr5xeWUXmnUe"
   },
   "source": [
    "### Store the data using Pinecone\n",
    "\n",
    "\n",
    "To create a Pinecone vector database, first, you have to initialize your Pinecone client connection using the API key you set previously.\n",
    "\n",
    "In Pinecone, vector embeddings have to be stored in indexes. An index represents the vector data's top-level organizational unit. The vectors in any index must have the same dimensionality and distance metric for calculating similarity. You can read more about indexes in [Pinecone's Indexes documentation](https://docs.pinecone.io/docs/indexes).\n",
    "\n",
    "First, you'll create an index using Pinecone's `create_index` function. Pinecone allows you to create two types of indexes, Serverless indexes and Pod-based indexes. Pinecone's free starter plan lets you create only one project and one pod-based starter index with sufficient resources to support 100,000 vectors. For this tutorial, you have to create a pod-based starter index. To know more about different indexes and how they can be created, read Pinecone's [create indexes guide](https://docs.pinecone.io/docs/new-api#creating-indexes).\n",
    "\n",
    "\n",
    "Next, you'll insert the documents you extracted earlier from the website data into the newly created index using LangChain's `Pinecone.from_documents`. Under the hood, this function creates embeddings from the documents created by the document loader of LangChain using any specified embedding model and inserts them into the specified index in a Pinecone vector database.  \n",
    "\n",
    "You have to specify the `docs` you created from the website data using LangChain's `WebBasedLoader` and the `gemini_embeddings` as the embedding model when invoking the `from_documents` function to create the vector database from the website data."
   ]
  },
  {
   "cell_type": "code",
   "execution_count": null,
   "metadata": {},
   "outputs": [],
   "source": []
  },
  {
   "cell_type": "code",
   "execution_count": null,
   "metadata": {
    "id": "n1VwhUQMvpcN"
   },
   "outputs": [],
   "source": [
    "# Initialize Pinecone client\n",
    "pine_client = pc(api_key=os.getenv(\"PINECONE_API_KEY\"))  # API key from app.pinecone.io\n",
    "index_name = \"langchain-demo\"\n",
    "\n",
    "print(\"Test\")\n",
    "print(pine_client.list_indexes().names())\n",
    "\n",
    "# First, check if the index already exists. If it doesn't, create a new one.\n",
    "if index_name not in pine_client.list_indexes().names():\n",
    "    # Create a new index.\n",
    "    print(\"Creating index\")\n",
    "    pine_client.create_index(\n",
    "        name=index_name,\n",
    "        metric=\"cosine\",  # Using cosine similarity as the distance metric\n",
    "        dimension=768,    # Dimensionality for Gemini embedding model\n",
    "        spec=PodSpec(\n",
    "            environment=\"gcp-starter\",  # Environment: gcp-starter (free tier)\n",
    "            pod_type=\"starter\",          # Pod type: starter (starter pod for free tier)\n",
    "            pods=1                       # Number of pods: 1\n",
    "        )\n",
    "    )\n",
    "    print(pine_client.describe_index(index_name))\n",
    "\n",
    "print(\"outside loop\")\n",
    "\n",
    "# Assuming 'docs' is defined and holds your documents\n",
    "vectorstore = Pinecone.from_documents(\n",
    "    docs,\n",
    "    gemini_embeddings,  # Embedding model to generate embeddings from docs\n",
    "    index_name=index_name  # The index you've already created in Pinecone\n",
    ")\n"
   ]
  },
  {
   "cell_type": "markdown",
   "metadata": {
    "id": "BuSjapvHnc6T"
   },
   "source": [
    "### Create a retriever using Pinecone\n",
    "\n",
    "You'll now create a retriever that can retrieve website data embeddings from the newly created Pinecone vector store. This retriever can be later used to pass embeddings that provide more context to the LLM for answering user's queries.\n",
    "\n",
    "Invoke the `as_retriever` function of the vector store you initialized in the last step, to create a retriever."
   ]
  },
  {
   "cell_type": "code",
   "execution_count": null,
   "metadata": {
    "id": "qndTwf0tnQDv"
   },
   "outputs": [],
   "source": [
    "retriever = vectorstore.as_retriever()\n",
    "# Check if the retriever is working by trying to fetch the relevant docs related\n",
    "# to the word 'MMLU'(Massive Multitask Language Understanding). If the length is\n",
    "# greater than zero, it means that the retriever is functioning well.\n",
    "print(len(retriever.get_relevant_documents(\"MMLU\")))"
   ]
  },
  {
   "cell_type": "code",
   "execution_count": null,
   "metadata": {},
   "outputs": [],
   "source": []
  },
  {
   "cell_type": "markdown",
   "metadata": {
    "id": "7Qw00lvPnjfR"
   },
   "source": [
    "## Generator\n",
    "\n",
    "The Generator prompts the LLM for an answer when the user asks a question. The retriever you created in the previous stage from the Pinecone vector store will be used to pass relevant embeddings from the website data to the LLM to provide more context to the user's query.\n",
    "\n",
    "You'll perform the following steps in this stage:\n",
    "\n",
    "1. Chain together the following:\n",
    "    * A prompt for extracting the relevant embeddings using the retriever.\n",
    "    * A prompt for answering any question using LangChain.\n",
    "    * An LLM model from Gemini for prompting.\n",
    "    \n",
    "2. Run the created chain with a question as input to prompt the model for an answer.\n"
   ]
  },
  {
   "cell_type": "markdown",
   "metadata": {
    "id": "c2MK2wLwnkLg"
   },
   "source": [
    "### Initialize Gemini\n",
    "\n",
    "You must import `ChatGoogleGenerativeAI` from LangChain to initialize your model.\n",
    " In this example, you will use **gemini-pro**, as it supports text summarization. To know more about the text model, read Google AI's [language documentation](https://ai.google.dev/models/gemini).\n",
    "\n",
    "You can configure the model parameters such as ***temperature*** or ***top_p***,  by passing the appropriate values when initializing the `ChatGoogleGenerativeAI` LLM.  To learn more about the parameters and their uses, read Google AI's [concepts guide](https://ai.google.dev/docs/concepts#model_parameters)."
   ]
  },
  {
   "cell_type": "code",
   "execution_count": null,
   "metadata": {},
   "outputs": [],
   "source": [
    "!pip install langchain\n"
   ]
  },
  {
   "cell_type": "code",
   "execution_count": null,
   "metadata": {},
   "outputs": [],
   "source": [
    "pip install --upgrade langchain\n"
   ]
  },
  {
   "cell_type": "code",
   "execution_count": null,
   "metadata": {
    "id": "CaA1vRCh7s36"
   },
   "outputs": [],
   "source": [
    "from langchain_google_genai import ChatGoogleGenerativeAI\n",
    "\n",
    "# If there is no environment variable set for the API key, you can pass the API\n",
    "# key to the parameter `google_api_key` of the `ChatGoogleGenerativeAI`\n",
    "# function: `google_api_key=\"key\"`.\n",
    "\n",
    "llm = ChatGoogleGenerativeAI(model=\"gemini-1.5-flash-8b\",\n",
    "                  temperature=0.7, top_p=0.85)"
   ]
  },
  {
   "cell_type": "markdown",
   "metadata": {
    "id": "2BeLN6RXnuS2"
   },
   "source": [
    "### Create prompt templates\n",
    "\n",
    "You'll use LangChain's [PromptTemplate](https://python.langchain.com/docs/modules/model_io/prompts/prompt_templates/) to generate prompts to the LLM for answering questions.\n",
    "\n",
    "In the `llm_prompt`, the variable `question` will be replaced later by the input question, and the variable `context` will be replaced by the relevant text from the website retrieved from the Pinecone vector store."
   ]
  },
  {
   "cell_type": "code",
   "execution_count": null,
   "metadata": {
    "id": "90Czqh074dEC",
    "scrolled": true
   },
   "outputs": [],
   "source": [
    "# Prompt template to query Gemini\n",
    "system_prompt = \"\"\"You are an assistant for question-answering tasks.\n",
    "Use the following context to answer the question.\n",
    "If you don't know the answer, just say that you don't know.\n",
    "Use five sentences maximum and keep the answer concise.\n",
    "\n",
    "Question: {question}\n",
    "Context: {context}\n",
    "Answer:\"\"\"\n",
    "\n",
    "# llm_prompt = PromptTemplate.from_template(llm_prompt_template)\n",
    "\n",
    "# print(llm_prompt)"
   ]
  },
  {
   "cell_type": "code",
   "execution_count": null,
   "metadata": {},
   "outputs": [],
   "source": [
    "from langchain.prompts import ChatPromptTemplate\n",
    "from langchain.chains import create_stuff_documents_chain\n",
    "from langchain.chains import load_qa_chain\n",
    "\n",
    "system_prompt = (\n",
    "    \"You are an assistant for question-answering tasks. \"\n",
    "    \"Use the following pieces of retrieved context to answer \"\n",
    "    \"the question. If you don't know the answer, say that you \"\n",
    "    \"don't know. Use three sentences maximum and keep the \"\n",
    "    \"answer concise.\"\n",
    "    \"\\n\\n\"\n",
    "    \"{context}\"\n",
    ")\n",
    "\n",
    "prompt = ChatPromptTemplate.from_messages(\n",
    "    [\n",
    "        (\"system\", system_prompt),\n",
    "        (\"human\", \"{input}\"),\n",
    "    ]\n",
    ")\n",
    "\n",
    "question_answer_chain = create_stuff_documents_chain(llm, prompt)\n",
    "rag_chain = create_retrieval_chain(retriever, question_answer_chain)"
   ]
  },
  {
   "cell_type": "code",
   "execution_count": null,
   "metadata": {},
   "outputs": [],
   "source": [
    "from langchain.chains import create_history_aware_retriever\n",
    "from langchain_core.prompts import MessagesPlaceholder\n",
    "from langchain_core.prompts import ChatPromptTemplate\n",
    "\n",
    "contextualize_q_system_prompt = (\n",
    "    \"Given a chat history and the latest user question \"\n",
    "    \"which might reference context in the chat history, \"\n",
    "    \"formulate a standalone question which can be understood \"\n",
    "    \"without the chat history. Do NOT answer the question, \"\n",
    "    \"just reformulate it if needed and otherwise return it as is.\"\n",
    ")\n",
    "\n",
    "contextualize_q_prompt = ChatPromptTemplate.from_messages(\n",
    "    [\n",
    "        (\"system\", contextualize_q_system_prompt),\n",
    "        MessagesPlaceholder(\"chat_history\"),\n",
    "        (\"human\", \"{input}\"),\n",
    "    ]\n",
    ")\n",
    "history_aware_retriever = create_history_aware_retriever(\n",
    "    llm, retriever, contextualize_q_prompt\n",
    ")"
   ]
  },
  {
   "cell_type": "code",
   "execution_count": null,
   "metadata": {},
   "outputs": [],
   "source": [
    "from langchain.chains import create_retrieval_chain\n",
    "from langchain.chains.combine_documents import create_stuff_documents_chain\n",
    "\n",
    "qa_prompt = ChatPromptTemplate.from_messages(\n",
    "    [\n",
    "        (\"system\", system_prompt),\n",
    "        MessagesPlaceholder(\"chat_history\"),\n",
    "        (\"human\", \"{input}\"),\n",
    "    ]\n",
    ")\n",
    "\n",
    "\n",
    "question_answer_chain = create_stuff_documents_chain(llm, qa_prompt)\n",
    "\n",
    "rag_chain = create_retrieval_chain(history_aware_retriever, question_answer_chain)"
   ]
  },
  {
   "cell_type": "code",
   "execution_count": null,
   "metadata": {},
   "outputs": [],
   "source": [
    "from typing import Sequence\n",
    "\n",
    "from langchain_core.messages import BaseMessage\n",
    "from langgraph.checkpoint.memory import MemorySaver\n",
    "from langgraph.graph import START, StateGraph\n",
    "from langgraph.graph.message import add_messages\n",
    "from typing_extensions import Annotated, TypedDict\n",
    "from langchain_core.messages import AIMessage, HumanMessage\n",
    "\n",
    "\n",
    "# We define a dict representing the state of the application.\n",
    "# This state has the same input and output keys as `rag_chain`.\n",
    "class State(TypedDict):\n",
    "    input: str\n",
    "    chat_history: Annotated[Sequence[BaseMessage], add_messages]\n",
    "    context: str\n",
    "    answer: str\n",
    "\n",
    "\n",
    "# We then define a simple node that runs the `rag_chain`.\n",
    "# The `return` values of the node update the graph state, so here we just\n",
    "# update the chat history with the input message and response.\n",
    "def call_model(state: State):\n",
    "    response = rag_chain.invoke(state)\n",
    "    return {\n",
    "        \"chat_history\": [\n",
    "            HumanMessage(state[\"input\"]),\n",
    "            AIMessage(response[\"answer\"]),\n",
    "        ],\n",
    "        \"context\": response[\"context\"],\n",
    "        \"answer\": response[\"answer\"],\n",
    "    }\n",
    "\n",
    "\n",
    "# Our graph consists only of one node:\n",
    "workflow = StateGraph(state_schema=State)\n",
    "workflow.add_edge(START, \"model\")\n",
    "workflow.add_node(\"model\", call_model)\n",
    "\n",
    "# Finally, we compile the graph with a checkpointer object.\n",
    "# This persists the state, in this case in memory.\n",
    "memory = MemorySaver()\n",
    "app = workflow.compile(checkpointer=memory)"
   ]
  },
  {
   "cell_type": "code",
   "execution_count": null,
   "metadata": {},
   "outputs": [],
   "source": [
    "config = {\"configurable\": {\"thread_id\": \"abc123\"}}\n",
    "\n",
    "# result = app.invoke(\n",
    "#     {\"input\": \"explain Fail-safe in details\"},\n",
    "#     config=config,\n",
    "# )\n",
    "# print(result[\"answer\"])\n",
    "\n",
    "while True:\n",
    "    user_input = input(\"Enter your question or type 'qa' to exit: \")\n",
    "    \n",
    "    if user_input.lower() == \"qa\":\n",
    "        print(\"Exiting the program.\")\n",
    "        break\n",
    "    else:\n",
    "        # Invoke the rag_chain with the user's question\n",
    "        result = app.invoke({\"input\": user_input},\n",
    "                              config=config, )\n",
    "        # Print the answer, replacing newline characters\n",
    "        print(result[\"answer\"])\n"
   ]
  },
  {
   "cell_type": "code",
   "execution_count": null,
   "metadata": {},
   "outputs": [],
   "source": [
    "chat_history = app.get_state(config).values[\"chat_history\"]\n",
    "for message in chat_history:\n",
    "    message.pretty_print()"
   ]
  },
  {
   "cell_type": "markdown",
   "metadata": {
    "id": "TkWpzMmpnx7b"
   },
   "source": [
    "### Create a stuff documents chain\n",
    "\n",
    "LangChain provides [Chains](https://python.langchain.com/docs/modules/chains/) for chaining together LLMs with each other or other components for complex applications. You will create a **stuff documents chain** for this application. A stuff documents chain lets you combine all the relevant documents, insert them into the prompt, and pass that prompt to the LLM.\n",
    "\n",
    "You can create a stuff documents chain using the [LangChain Expression Language (LCEL)](https://python.langchain.com/docs/expression_language).\n",
    "\n",
    "To learn more about different types of document chains, read LangChain's [chains guide](https://python.langchain.com/docs/modules/chains/document/).\n",
    "\n",
    "The stuff documents chain for this application retrieves the relevant website data and passes it as the context to an LLM prompt along with the input question."
   ]
  },
  {
   "cell_type": "code",
   "execution_count": null,
   "metadata": {
    "id": "gj5sWzpwp7vc"
   },
   "outputs": [],
   "source": [
    "# Combine data from documents to readable string format.\n",
    "def format_docs(docs):\n",
    "    return \"\\n\\n\".join(doc.page_content for doc in docs)\n",
    "\n",
    "# Create stuff documents chain using LCEL.\n",
    "# This is called a chain because you are chaining\n",
    "# together different elements with the LLM.\n",
    "# In the following example, to create a stuff chain,\n",
    "# you will combine content, prompt, LLM model, and\n",
    "# output parser together like a chain using LCEL.\n",
    "#\n",
    "# The chain implements the following pipeline:\n",
    "# 1. Extract data from documents and save to the variable `context`.\n",
    "# 2. Use the `RunnablePassthrough` option to provide question during invoke.\n",
    "# 3. The `context` and `question` are then passed to the prompt and\n",
    "#    input variables in the prompt are populated.\n",
    "# 4. The prompt is then passed to the LLM (`gemini-pro`).\n",
    "# 5. Output from the LLM is passed through an output parser\n",
    "#    to structure the model response.\n",
    "rag_chain = (\n",
    "    {\"context\": retriever | format_docs, \"question\": RunnablePassthrough()}\n",
    "    | llm_prompt\n",
    "    | llm\n",
    "    | StrOutputParser()\n",
    ")"
   ]
  },
  {
   "cell_type": "markdown",
   "metadata": {
    "id": "gmHx_F7DoMgM"
   },
   "source": [
    "### Prompt the model\n",
    "\n",
    "You can now query the LLM by passing any question to the `invoke()` function of the stuff documents chain you created previously."
   ]
  },
  {
   "cell_type": "code",
   "execution_count": null,
   "metadata": {
    "id": "95W-sbTjoGGj"
   },
   "outputs": [],
   "source": [
    "rag_chain.invoke(\"explain Fail-safe in details\").replace(\"\\n\",\"\")"
   ]
  },
  {
   "cell_type": "code",
   "execution_count": null,
   "metadata": {},
   "outputs": [],
   "source": []
  },
  {
   "cell_type": "code",
   "execution_count": null,
   "metadata": {},
   "outputs": [],
   "source": []
  },
  {
   "cell_type": "code",
   "execution_count": null,
   "metadata": {},
   "outputs": [],
   "source": []
  },
  {
   "cell_type": "code",
   "execution_count": null,
   "metadata": {},
   "outputs": [],
   "source": [
    "while True:\n",
    "    user_input = input(\"Enter your question or write qa to exit: \")\n",
    "    if user_input == \"qa\":\n",
    "        break\n",
    "    else:\n",
    "        print(rag_chain.invoke(user_input).replace(\"\\n\",\"\"))\n"
   ]
  },
  {
   "cell_type": "code",
   "execution_count": null,
   "metadata": {},
   "outputs": [],
   "source": [
    "rag_chain.invoke(\"\"\"explain the figure in details\"\"\").replace(\"\\n\",\"\")"
   ]
  },
  {
   "cell_type": "code",
   "execution_count": null,
   "metadata": {},
   "outputs": [],
   "source": [
    "print('Fail-safe default is a security principle where systems default to denying access unless explicit permission is granted. This means that in case of errors or malfunctions, the system will likely err on the side of caution by restricting access, rather than mistakenly granting it. This approach minimizes security breaches as unauthorized access is less likely to occur. Conversely, a system that defaults to allowing access could inadvertently expose sensitive data if its access control mechanisms fail. File systems typically employ fail-safe defaults, as do most client-server protected services. ')\n"
   ]
  },
  {
   "cell_type": "code",
   "execution_count": null,
   "metadata": {},
   "outputs": [],
   "source": [
    "# model = genai.GenerativeModel('gemini-pro')"
   ]
  },
  {
   "cell_type": "code",
   "execution_count": null,
   "metadata": {},
   "outputs": [],
   "source": [
    "# response = model.generate_content(\"explain Fail-safe default in details\")\n",
    "# print(response.text)"
   ]
  },
  {
   "cell_type": "code",
   "execution_count": null,
   "metadata": {},
   "outputs": [],
   "source": []
  },
  {
   "cell_type": "code",
   "execution_count": null,
   "metadata": {},
   "outputs": [],
   "source": []
  },
  {
   "cell_type": "code",
   "execution_count": null,
   "metadata": {},
   "outputs": [],
   "source": []
  }
 ],
 "metadata": {
  "colab": {
   "name": "Gemini_LangChain_QA_Pinecone_WebLoad.ipynb",
   "toc_visible": true
  },
  "kernelspec": {
   "display_name": "Python 3 (ipykernel)",
   "language": "python",
   "name": "python3"
  },
  "language_info": {
   "codemirror_mode": {
    "name": "ipython",
    "version": 3
   },
   "file_extension": ".py",
   "mimetype": "text/x-python",
   "name": "python",
   "nbconvert_exporter": "python",
   "pygments_lexer": "ipython3",
   "version": "3.9.13"
  }
 },
 "nbformat": 4,
 "nbformat_minor": 1
}
